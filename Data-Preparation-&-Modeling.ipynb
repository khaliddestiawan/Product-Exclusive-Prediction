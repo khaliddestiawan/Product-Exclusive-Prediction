{
 "cells": [
  {
   "cell_type": "markdown",
   "id": "53ff448b-b687-41c2-a124-1303b79c5199",
   "metadata": {
    "id": "1RFLV4gKOw1E"
   },
   "source": [
    "# Data Preparation"
   ]
  },
  {
   "cell_type": "code",
   "execution_count": 35,
   "id": "f2958fe3-d808-42a9-bbcd-a9e01cbd5294",
   "metadata": {
    "tags": []
   },
   "outputs": [],
   "source": [
    "data_preproc = data.copy()"
   ]
  },
  {
   "cell_type": "markdown",
   "id": "0972c11a-1d97-4faf-931e-2617f1bf3c25",
   "metadata": {
    "id": "lSQR507POw1E",
    "tags": []
   },
   "source": [
    "## Missing Value"
   ]
  },
  {
   "cell_type": "code",
   "execution_count": 34,
   "id": "c501cc56-6073-48a3-9577-5188ac3baa8f",
   "metadata": {
    "colab": {
     "base_uri": "https://localhost:8080/"
    },
    "id": "N0boMrBD1EjF",
    "outputId": "fe4c1ee6-c714-4358-eaa7-68ffa956e294",
    "tags": []
   },
   "outputs": [],
   "source": [
    "# function to check missing values\n",
    "\n",
    "import pandas as pd\n",
    "\n",
    "def info_missing_value(data):\n",
    "    \"\"\"\n",
    "    Calculate missing data statistics and return the missing data DataFrame.\n",
    "\n",
    "    Parameters:\n",
    "        data (pandas.DataFrame): The input DataFrame to analyze.\n",
    "\n",
    "    Returns:\n",
    "        pandas.DataFrame: A DataFrame containing the missing data statistics.\n",
    "    \"\"\"\n",
    "\n",
    "    # Calculate the total count of missing values for each column\n",
    "    total = data.isna().sum().sort_values(ascending=False)\n",
    "    percent = (data.isnull().sum() / len(data) * 100).sort_values(ascending=False)\n",
    "    length = len(data)\n",
    "\n",
    "    missing_data = pd.DataFrame(total, columns=['Total'])\n",
    "    missing_data['Percent']     = percent\n",
    "    missing_data['Data_length'] = length\n",
    "    missing_data = missing_data[missing_data['Total']>0]\n",
    "\n",
    "    return missing_data"
   ]
  },
  {
   "cell_type": "code",
   "execution_count": 36,
   "id": "c1ee3fc4-dac6-44fe-9def-67985dfc0871",
   "metadata": {
    "tags": []
   },
   "outputs": [
    {
     "data": {
      "text/html": [
       "<div>\n",
       "<style scoped>\n",
       "    .dataframe tbody tr th:only-of-type {\n",
       "        vertical-align: middle;\n",
       "    }\n",
       "\n",
       "    .dataframe tbody tr th {\n",
       "        vertical-align: top;\n",
       "    }\n",
       "\n",
       "    .dataframe thead th {\n",
       "        text-align: right;\n",
       "    }\n",
       "</style>\n",
       "<table border=\"1\" class=\"dataframe\">\n",
       "  <thead>\n",
       "    <tr style=\"text-align: right;\">\n",
       "      <th></th>\n",
       "      <th>Total</th>\n",
       "      <th>Percent</th>\n",
       "      <th>Data_length</th>\n",
       "    </tr>\n",
       "  </thead>\n",
       "  <tbody>\n",
       "    <tr>\n",
       "      <th>rating</th>\n",
       "      <td>95</td>\n",
       "      <td>1.1875</td>\n",
       "      <td>8000</td>\n",
       "    </tr>\n",
       "    <tr>\n",
       "      <th>love</th>\n",
       "      <td>34</td>\n",
       "      <td>0.4250</td>\n",
       "      <td>8000</td>\n",
       "    </tr>\n",
       "    <tr>\n",
       "      <th>value_price</th>\n",
       "      <td>17</td>\n",
       "      <td>0.2125</td>\n",
       "      <td>8000</td>\n",
       "    </tr>\n",
       "    <tr>\n",
       "      <th>category</th>\n",
       "      <td>13</td>\n",
       "      <td>0.1625</td>\n",
       "      <td>8000</td>\n",
       "    </tr>\n",
       "    <tr>\n",
       "      <th>number_of_reviews</th>\n",
       "      <td>9</td>\n",
       "      <td>0.1125</td>\n",
       "      <td>8000</td>\n",
       "    </tr>\n",
       "    <tr>\n",
       "      <th>price</th>\n",
       "      <td>8</td>\n",
       "      <td>0.1000</td>\n",
       "      <td>8000</td>\n",
       "    </tr>\n",
       "  </tbody>\n",
       "</table>\n",
       "</div>"
      ],
      "text/plain": [
       "                   Total  Percent  Data_length\n",
       "rating                95   1.1875         8000\n",
       "love                  34   0.4250         8000\n",
       "value_price           17   0.2125         8000\n",
       "category              13   0.1625         8000\n",
       "number_of_reviews      9   0.1125         8000\n",
       "price                  8   0.1000         8000"
      ]
     },
     "execution_count": 36,
     "metadata": {},
     "output_type": "execute_result"
    }
   ],
   "source": [
    "info_missing_value(data_preproc)"
   ]
  },
  {
   "cell_type": "markdown",
   "id": "ba6887ff-33ff-4c48-8511-4edcb2cf0590",
   "metadata": {
    "id": "dMKjPjsB1HAl"
   },
   "source": [
    "It can be observed that, apart from the `id`, `brand`, and `exclusive` columns, there are rows with missing values. The number of missing values is not significant, accounting for a maximum of approximately 1-2% of the data. To handle this, we will perform imputation using the median for numerical columns and the mode for categorical columns. Imputing with the median is more relevant due to the skewed distribution of the numerical data."
   ]
  },
  {
   "cell_type": "code",
   "execution_count": 44,
   "id": "b9d95d01-7994-4673-bd9d-a7cf1fe86a2d",
   "metadata": {
    "tags": []
   },
   "outputs": [],
   "source": [
    "# missing value handling\n",
    "numerical_null   = ['rating','love','value_price','number_of_reviews','price']\n",
    "\n",
    "data_preproc[numerical_null]   = data_preproc[numerical_null].fillna(data_preproc[numerical_null].median())\n",
    "data_preproc['category'].fillna(data_preproc['category'].mode(), inplace=True)"
   ]
  },
  {
   "cell_type": "code",
   "execution_count": 47,
   "id": "f38922f3-4c95-43fb-a3d3-3439d7ede1c4",
   "metadata": {
    "tags": []
   },
   "outputs": [
    {
     "data": {
      "text/html": [
       "<div>\n",
       "<style scoped>\n",
       "    .dataframe tbody tr th:only-of-type {\n",
       "        vertical-align: middle;\n",
       "    }\n",
       "\n",
       "    .dataframe tbody tr th {\n",
       "        vertical-align: top;\n",
       "    }\n",
       "\n",
       "    .dataframe thead th {\n",
       "        text-align: right;\n",
       "    }\n",
       "</style>\n",
       "<table border=\"1\" class=\"dataframe\">\n",
       "  <thead>\n",
       "    <tr style=\"text-align: right;\">\n",
       "      <th></th>\n",
       "      <th>Total</th>\n",
       "      <th>Percent</th>\n",
       "      <th>Data_length</th>\n",
       "    </tr>\n",
       "  </thead>\n",
       "  <tbody>\n",
       "  </tbody>\n",
       "</table>\n",
       "</div>"
      ],
      "text/plain": [
       "Empty DataFrame\n",
       "Columns: [Total, Percent, Data_length]\n",
       "Index: []"
      ]
     },
     "execution_count": 47,
     "metadata": {},
     "output_type": "execute_result"
    }
   ],
   "source": [
    "info_missing_value(data_preproc)"
   ]
  },
  {
   "cell_type": "markdown",
   "id": "4d7b0e4d-e43a-4753-a99b-0c64b3c5542e",
   "metadata": {
    "id": "QSjr8wLMOw1F"
   },
   "source": [
    "## Duplicate Values\n",
    "\n",
    "Kita cek apakah ada data yang duplikat dari dataset dengan menggunakan `duplicated` seperti di bawah ini:"
   ]
  },
  {
   "cell_type": "code",
   "execution_count": null,
   "id": "f8947342-4746-45e8-b43d-da4cec69d3a3",
   "metadata": {
    "colab": {
     "base_uri": "https://localhost:8080/"
    },
    "id": "LLbANpO-1hxf",
    "outputId": "8ac7831d-90a2-4e97-bacf-a916f7639767"
   },
   "outputs": [
    {
     "data": {
      "text/plain": [
       "0"
      ]
     },
     "execution_count": 15,
     "metadata": {
      "tags": []
     },
     "output_type": "execute_result"
    }
   ],
   "source": [
    "data.duplicated().sum()"
   ]
  },
  {
   "cell_type": "markdown",
   "id": "2aef79ff-1f65-4ecd-8476-ed29c43b5b71",
   "metadata": {
    "id": "mKLTu7c02Fnh"
   },
   "source": [
    "Karena tidak ada data yang duplikat, kita dapat melanjutkan langsung ke tahap selanjutnya."
   ]
  },
  {
   "cell_type": "markdown",
   "id": "c2a99a3d-d655-48d9-a0be-478b62d0f3a1",
   "metadata": {
    "id": "rMo1QkcoOw1F"
   },
   "source": [
    "## Outliers\n",
    "\n",
    "Dari grafik yang kita keluarkan ketika EDA, kita tahu bahwa hampir semua kolom numerik memiliki outlier. Sebelum kita mengeluarkan outlier, karena kita tahu bahwa bentuk distribusi kolom-kolom ini condong ke kiri, kita coba normalkan dengan `log transformation` kecuali untuk kolom `rating`:"
   ]
  },
  {
   "cell_type": "code",
   "execution_count": null,
   "id": "ba181638-b10b-47f3-b2b2-9bfadd091a65",
   "metadata": {
    "id": "ZaT7v2E22aea"
   },
   "outputs": [],
   "source": [
    "for num in nums:\n",
    "  if num not in ['id', 'rating']:\n",
    "    data[num] = np.log(data[num] + (data[data[num] > 0][num].min() / 2)) # kita harus pastikan data tidak 0 untuk dilogtransform"
   ]
  },
  {
   "cell_type": "markdown",
   "id": "c7712970-c1cb-4a5a-a18b-f2b647ec896e",
   "metadata": {
    "id": "ndGjRNhi2icw"
   },
   "source": [
    "Kita coba sekali lagi munculkan violin plot untuk setiap kolom numerik:"
   ]
  },
  {
   "cell_type": "code",
   "execution_count": null,
   "id": "5d100f3e-5817-4b34-9a05-e99e766f4e8a",
   "metadata": {
    "colab": {
     "base_uri": "https://localhost:8080/",
     "height": 533
    },
    "id": "nLEpkRyl2oHF",
    "outputId": "5c9d4ac3-84bc-4a6e-9397-d2fe51bed52b"
   },
   "outputs": [
    {
     "data": {
      "image/png": "[encoded data removed]",
      "text/plain": [
       "<Figure size 864x576 with 5 Axes>"
      ]
     },
     "metadata": {
      "tags": []
     },
     "output_type": "display_data"
    }
   ],
   "source": [
    "plt.figure(figsize=(12, 8))\n",
    "for i in range (0, len(nums)):\n",
    "  plt.subplot(math.ceil(len(nums)/3), 3, i+1)\n",
    "  sns.violinplot(data=data, y=nums[i], x='exclusive', linewidth=2, orient='v')"
   ]
  },
  {
   "cell_type": "markdown",
   "id": "17709561-827e-43dd-ac81-ac91387ffbe2",
   "metadata": {
    "id": "0Qjy0gpC317D"
   },
   "source": [
    "Perhatikan bahwa sekarang hampir semua kolom numerik terlihat memiliki distribusi berbentuk cukup normal. Untuk distribusi normal, kita bisa menggunakan *z-score* untuk membuang outlier seperti di bawah ini:"
   ]
  },
  {
   "cell_type": "code",
   "execution_count": null,
   "id": "461d0b78-ae7f-4480-9c66-bd2769bb69a0",
   "metadata": {
    "colab": {
     "base_uri": "https://localhost:8080/"
    },
    "id": "PmGozwrX5p0K",
    "outputId": "4584f9e5-5490-4749-ff65-c692e3314173"
   },
   "outputs": [
    {
     "name": "stdout",
     "output_type": "stream",
     "text": [
      "Before removing outlier:  7828\n",
      "After removing outlier:  7642\n"
     ]
    }
   ],
   "source": [
    "from scipy import stats\n",
    "\n",
    "print(\"Before removing outlier: \", len(data))\n",
    "\n",
    "for num in nums:\n",
    "  if num not in ['id', 'rating']:\n",
    "    z_scores = np.abs(stats.zscore(data[num]))\n",
    "    data = data[z_scores <= 3]\n",
    "\n",
    "print(\"After removing outlier: \", len(data))"
   ]
  },
  {
   "cell_type": "markdown",
   "id": "bb511392-2296-4901-b254-9fc1ee2ae980",
   "metadata": {
    "id": "RrjlrM4p6whF"
   },
   "source": [
    "Seperti yang terlihat di atas, kita menghapus sekitar ~200 baris yang berisi outlier berdasarkan *z-score*.\n"
   ]
  },
  {
   "cell_type": "markdown",
   "id": "e680fec9-c249-46b7-9254-46cbe20507dd",
   "metadata": {
    "id": "0ZnZ0gZiOw1G"
   },
   "source": [
    "## Normalization/Standardization\n",
    "\n",
    "Seperti yang telah dijelaskan di atas, semua kolom numerik kita sekarang memiliki bentuk distribusi yang lumayan normal. Oleh karena itu, kita akan melakukan standardisasi ke semua kolom kita seperti di bawah ini:"
   ]
  },
  {
   "cell_type": "code",
   "execution_count": null,
   "id": "b389245b-c47d-4526-90b3-07116022244e",
   "metadata": {
    "id": "G_9kciiC63BJ"
   },
   "outputs": [],
   "source": [
    "from sklearn.preprocessing import StandardScaler\n",
    "\n",
    "for num in nums:\n",
    "  if num not in ['id', 'rating']:\n",
    "    data[num] = StandardScaler().fit_transform(data[num].values.reshape(len(data), 1))"
   ]
  },
  {
   "cell_type": "code",
   "execution_count": null,
   "id": "5b555b92-1d34-4423-a127-0d040647a124",
   "metadata": {
    "colab": {
     "base_uri": "https://localhost:8080/",
     "height": 297
    },
    "id": "XM--l20m7cQ7",
    "outputId": "6a00489a-bd85-4966-ae20-7930160e227d"
   },
   "outputs": [
    {
     "data": {
      "text/html": [
       "<div>\n",
       "<style scoped>\n",
       "    .dataframe tbody tr th:only-of-type {\n",
       "        vertical-align: middle;\n",
       "    }\n",
       "\n",
       "    .dataframe tbody tr th {\n",
       "        vertical-align: top;\n",
       "    }\n",
       "\n",
       "    .dataframe thead th {\n",
       "        text-align: right;\n",
       "    }\n",
       "</style>\n",
       "<table border=\"1\" class=\"dataframe\">\n",
       "  <thead>\n",
       "    <tr style=\"text-align: right;\">\n",
       "      <th></th>\n",
       "      <th>id</th>\n",
       "      <th>rating</th>\n",
       "      <th>number_of_reviews</th>\n",
       "      <th>love</th>\n",
       "      <th>price</th>\n",
       "      <th>value_price</th>\n",
       "      <th>exclusive</th>\n",
       "    </tr>\n",
       "  </thead>\n",
       "  <tbody>\n",
       "    <tr>\n",
       "      <th>count</th>\n",
       "      <td>7.642000e+03</td>\n",
       "      <td>7642.000000</td>\n",
       "      <td>7.642000e+03</td>\n",
       "      <td>7.642000e+03</td>\n",
       "      <td>7.642000e+03</td>\n",
       "      <td>7.642000e+03</td>\n",
       "      <td>7642.000000</td>\n",
       "    </tr>\n",
       "    <tr>\n",
       "      <th>mean</th>\n",
       "      <td>1.921106e+06</td>\n",
       "      <td>4.090618</td>\n",
       "      <td>-3.611639e-16</td>\n",
       "      <td>1.777112e-15</td>\n",
       "      <td>1.720570e-15</td>\n",
       "      <td>2.174828e-16</td>\n",
       "      <td>0.258048</td>\n",
       "    </tr>\n",
       "    <tr>\n",
       "      <th>std</th>\n",
       "      <td>3.749298e+05</td>\n",
       "      <td>0.742894</td>\n",
       "      <td>1.000065e+00</td>\n",
       "      <td>1.000065e+00</td>\n",
       "      <td>1.000065e+00</td>\n",
       "      <td>1.000065e+00</td>\n",
       "      <td>0.437589</td>\n",
       "    </tr>\n",
       "    <tr>\n",
       "      <th>min</th>\n",
       "      <td>6.528000e+03</td>\n",
       "      <td>0.000000</td>\n",
       "      <td>-2.498086e+00</td>\n",
       "      <td>-3.773263e+00</td>\n",
       "      <td>-2.936247e+00</td>\n",
       "      <td>-2.922413e+00</td>\n",
       "      <td>0.000000</td>\n",
       "    </tr>\n",
       "    <tr>\n",
       "      <th>25%</th>\n",
       "      <td>1.785730e+06</td>\n",
       "      <td>4.000000</td>\n",
       "      <td>-6.982840e-01</td>\n",
       "      <td>-6.902560e-01</td>\n",
       "      <td>-5.727122e-01</td>\n",
       "      <td>-5.886384e-01</td>\n",
       "      <td>0.000000</td>\n",
       "    </tr>\n",
       "    <tr>\n",
       "      <th>50%</th>\n",
       "      <td>2.032664e+06</td>\n",
       "      <td>4.000000</td>\n",
       "      <td>-1.119889e-02</td>\n",
       "      <td>-2.746363e-02</td>\n",
       "      <td>-1.061831e-01</td>\n",
       "      <td>-1.279836e-01</td>\n",
       "      <td>0.000000</td>\n",
       "    </tr>\n",
       "    <tr>\n",
       "      <th>75%</th>\n",
       "      <td>2.187092e+06</td>\n",
       "      <td>4.500000</td>\n",
       "      <td>7.299845e-01</td>\n",
       "      <td>6.694274e-01</td>\n",
       "      <td>6.261422e-01</td>\n",
       "      <td>6.185186e-01</td>\n",
       "      <td>1.000000</td>\n",
       "    </tr>\n",
       "    <tr>\n",
       "      <th>max</th>\n",
       "      <td>2.293801e+06</td>\n",
       "      <td>5.000000</td>\n",
       "      <td>2.970600e+00</td>\n",
       "      <td>3.302054e+00</td>\n",
       "      <td>3.052605e+00</td>\n",
       "      <td>2.991030e+00</td>\n",
       "      <td>1.000000</td>\n",
       "    </tr>\n",
       "  </tbody>\n",
       "</table>\n",
       "</div>"
      ],
      "text/plain": [
       "                 id       rating  ...   value_price    exclusive\n",
       "count  7.642000e+03  7642.000000  ...  7.642000e+03  7642.000000\n",
       "mean   1.921106e+06     4.090618  ...  2.174828e-16     0.258048\n",
       "std    3.749298e+05     0.742894  ...  1.000065e+00     0.437589\n",
       "min    6.528000e+03     0.000000  ... -2.922413e+00     0.000000\n",
       "25%    1.785730e+06     4.000000  ... -5.886384e-01     0.000000\n",
       "50%    2.032664e+06     4.000000  ... -1.279836e-01     0.000000\n",
       "75%    2.187092e+06     4.500000  ...  6.185186e-01     1.000000\n",
       "max    2.293801e+06     5.000000  ...  2.991030e+00     1.000000\n",
       "\n",
       "[8 rows x 7 columns]"
      ]
     },
     "execution_count": 21,
     "metadata": {
      "tags": []
     },
     "output_type": "execute_result"
    }
   ],
   "source": [
    "data.describe()"
   ]
  },
  {
   "cell_type": "markdown",
   "id": "5256d27b-5a87-4ed3-bf83-7ca5c0e910b9",
   "metadata": {
    "id": "f7hmAGED7fTv"
   },
   "source": [
    "Perhatikan bahwa kolom-kolom numerik kita sekarang memiliki simpangan baku = 1 dan rata-rata mendekati 0."
   ]
  },
  {
   "cell_type": "markdown",
   "id": "a53f672b-5c9b-4885-8c8b-210b6bc36081",
   "metadata": {
    "id": "vOA72wb2Ow1G"
   },
   "source": [
    "## Feature encoding\n",
    "\n",
    "Dari EDA kita tahu bahwa kedua kolom kategorikal kita memiliki ratusan kemungkinan nilai. Meski begitu, dengan mempertimbangkan baris data yang hanya ada ~7500, kita akan tetap melakukan *one-hot encoding* dengan catatan apabila di masa depan ketika kita melakukan modeling prosesnya terlalu lambat, kita akan pertimbangkan menghapus kategorinya saja atu menggunakan label encoding."
   ]
  },
  {
   "cell_type": "code",
   "execution_count": null,
   "id": "fa9a9760-e098-4803-8935-d5e857fc990f",
   "metadata": {
    "id": "VU1mFQVZ7pQs"
   },
   "outputs": [],
   "source": [
    "for cat in cats:\n",
    "  data = pd.concat([data, pd.get_dummies(data[cat], prefix=cat)], axis=0)\n",
    "  data.drop(columns=[cat], inplace=True)"
   ]
  },
  {
   "cell_type": "code",
   "execution_count": null,
   "id": "67a773cc-27b1-4bd1-bde8-4552dbbfeec7",
   "metadata": {
    "colab": {
     "base_uri": "https://localhost:8080/"
    },
    "id": "yorPH2Ah8dgb",
    "outputId": "e731ae6f-0a7b-4d7f-89a4-14555a5f915b"
   },
   "outputs": [
    {
     "name": "stdout",
     "output_type": "stream",
     "text": [
      "<class 'pandas.core.frame.DataFrame'>\n",
      "Int64Index: 30568 entries, 5 to 7999\n",
      "Columns: 460 entries, id to category_no category\n",
      "dtypes: float64(458), object(2)\n",
      "memory usage: 107.5+ MB\n"
     ]
    }
   ],
   "source": [
    "data.info()"
   ]
  },
  {
   "cell_type": "markdown",
   "id": "e74a6136-d893-4f6f-8fe3-91fe83d18906",
   "metadata": {
    "id": "wdHoGY877k5H"
   },
   "source": [
    "Seperti yang terlihat, sekarang dataset memiliki ratusan kolom hasil *one-hot encoding* dari kolom kategorikalnya."
   ]
  },
  {
   "cell_type": "markdown",
   "id": "d79e3688-bddb-4d92-a7e1-e7350b051679",
   "metadata": {
    "id": "xFnEo_RBOw1H"
   },
   "source": [
    "## Class imbalance\n",
    "Kita bisa melakukan pengecekan class imbalance dengan menggunakan `value_counts`. Dapat dilihat bahwa perbandingan antara kelas positif dan negatif untuk kolom `exclusive` ada di sekitar 1:3, yang berarti tidak terjadi class imbalance.`"
   ]
  },
  {
   "cell_type": "code",
   "execution_count": null,
   "id": "eef3b534-420c-416f-872f-4c72574d024c",
   "metadata": {
    "colab": {
     "base_uri": "https://localhost:8080/"
    },
    "id": "H7sV9EQW8vsW",
    "outputId": "21710152-301a-451c-f3b0-a6d3a306f270"
   },
   "outputs": [
    {
     "data": {
      "text/plain": [
       "0.0    5670\n",
       "1.0    1972\n",
       "Name: exclusive, dtype: int64"
      ]
     },
     "execution_count": 30,
     "metadata": {
      "tags": []
     },
     "output_type": "execute_result"
    }
   ],
   "source": [
    "data['exclusive'].value_counts()"
   ]
  },
  {
   "cell_type": "markdown",
   "id": "12117cd7-75ca-40ce-9277-0e780b070079",
   "metadata": {
    "id": "mICcZTg88_zP"
   },
   "source": [
    "Kali ini, kita tidak akan melakukan sampling."
   ]
  },
  {
   "cell_type": "markdown",
   "id": "b3d9c199-61a6-4269-ad19-a5ba8180c13f",
   "metadata": {
    "id": "-H74viLWOw1H"
   },
   "source": [
    "# Conclusion"
   ]
  },
  {
   "cell_type": "markdown",
   "id": "147775c7-37b1-4824-80ca-71ff2780a3ef",
   "metadata": {
    "id": "bwHzs_6TOw1H"
   },
   "source": [
    "*In conclusion*, kita sudah dengan sukses melakukan proses *pre-processing* berdasarkan hal yang sudah kita ketahui ketika EDA. Yang kita lakukan antara lain:\n",
    "- Drop row *null*\n",
    "- *Log transformation*\n",
    "- Mengeluarkan *outlier* menggunakan *z-score*\n",
    "- Standardisasi\n",
    "- *Feature encoding*"
   ]
  }
 ],
 "metadata": {
  "kernelspec": {
   "display_name": "Python 3 (ipykernel)",
   "language": "python",
   "name": "python3"
  },
  "language_info": {
   "codemirror_mode": {
    "name": "ipython",
    "version": 3
   },
   "file_extension": ".py",
   "mimetype": "text/x-python",
   "name": "python",
   "nbconvert_exporter": "python",
   "pygments_lexer": "ipython3",
   "version": "3.11.5"
  }
 },
 "nbformat": 4,
 "nbformat_minor": 5
}
