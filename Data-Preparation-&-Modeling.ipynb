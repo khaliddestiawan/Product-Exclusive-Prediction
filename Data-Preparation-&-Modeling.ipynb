{
 "cells": [
  {
   "cell_type": "code",
   "execution_count": 1,
   "id": "7bb8db97-cbe4-4c65-b79c-42204eb7513f",
   "metadata": {
    "tags": []
   },
   "outputs": [
    {
     "name": "stdout",
     "output_type": "stream",
     "text": [
      "numpy version :  1.24.3\n",
      "pandas version :  2.0.3\n",
      "seaborn version :  0.12.2\n"
     ]
    }
   ],
   "source": [
    "import warnings\n",
    "warnings.filterwarnings('ignore')\n",
    "\n",
    "import numpy as np\n",
    "import pandas as pd\n",
    "import seaborn as sns\n",
    "import matplotlib.pyplot as plt\n",
    "%matplotlib inline\n",
    "\n",
    "print('numpy version : ',np.__version__)\n",
    "print('pandas version : ',pd.__version__)\n",
    "print('seaborn version : ',sns.__version__)"
   ]
  },
  {
   "cell_type": "code",
   "execution_count": 2,
   "id": "f5d0fcbe-2279-4115-ac21-92b7c38f4784",
   "metadata": {
    "tags": []
   },
   "outputs": [],
   "source": [
    "sns.set(rc={'figure.figsize':(20.7,8.27)})\n",
    "sns.set_style(\"whitegrid\")\n",
    "sns.color_palette(\"dark\")\n",
    "plt.style.use(\"fivethirtyeight\")"
   ]
  },
  {
   "cell_type": "markdown",
   "id": "33036405-f606-4d7e-b168-b76f36977903",
   "metadata": {},
   "source": [
    "# Load Dataset"
   ]
  },
  {
   "cell_type": "code",
   "execution_count": 3,
   "id": "9d9c3b03-3376-4e1f-bf45-758ac84f85cb",
   "metadata": {
    "tags": []
   },
   "outputs": [
    {
     "data": {
      "text/html": [
       "<div>\n",
       "<style scoped>\n",
       "    .dataframe tbody tr th:only-of-type {\n",
       "        vertical-align: middle;\n",
       "    }\n",
       "\n",
       "    .dataframe tbody tr th {\n",
       "        vertical-align: top;\n",
       "    }\n",
       "\n",
       "    .dataframe thead th {\n",
       "        text-align: right;\n",
       "    }\n",
       "</style>\n",
       "<table border=\"1\" class=\"dataframe\">\n",
       "  <thead>\n",
       "    <tr style=\"text-align: right;\">\n",
       "      <th></th>\n",
       "      <th>id</th>\n",
       "      <th>brand</th>\n",
       "      <th>category</th>\n",
       "      <th>rating</th>\n",
       "      <th>number_of_reviews</th>\n",
       "      <th>love</th>\n",
       "      <th>price</th>\n",
       "      <th>value_price</th>\n",
       "      <th>exclusive</th>\n",
       "    </tr>\n",
       "  </thead>\n",
       "  <tbody>\n",
       "    <tr>\n",
       "      <th>0</th>\n",
       "      <td>50</td>\n",
       "      <td>SEPHORA COLLECTION</td>\n",
       "      <td>no category</td>\n",
       "      <td>5.0</td>\n",
       "      <td>46.0</td>\n",
       "      <td>0.0</td>\n",
       "      <td>50.0</td>\n",
       "      <td>50.0</td>\n",
       "      <td>0</td>\n",
       "    </tr>\n",
       "    <tr>\n",
       "      <th>1</th>\n",
       "      <td>304</td>\n",
       "      <td>SEPHORA COLLECTION</td>\n",
       "      <td>no category</td>\n",
       "      <td>0.0</td>\n",
       "      <td>0.0</td>\n",
       "      <td>0.0</td>\n",
       "      <td>50.0</td>\n",
       "      <td>50.0</td>\n",
       "      <td>0</td>\n",
       "    </tr>\n",
       "  </tbody>\n",
       "</table>\n",
       "</div>"
      ],
      "text/plain": [
       "    id               brand     category  rating  number_of_reviews  love  \\\n",
       "0   50  SEPHORA COLLECTION  no category     5.0               46.0   0.0   \n",
       "1  304  SEPHORA COLLECTION  no category     0.0                0.0   0.0   \n",
       "\n",
       "   price  value_price  exclusive  \n",
       "0   50.0         50.0          0  \n",
       "1   50.0         50.0          0  "
      ]
     },
     "execution_count": 3,
     "metadata": {},
     "output_type": "execute_result"
    }
   ],
   "source": [
    "datapre = pd.read_csv('Dataset/Product_Exclusive_Classification.csv')\n",
    "datapre.head(2)"
   ]
  },
  {
   "cell_type": "markdown",
   "id": "53ff448b-b687-41c2-a124-1303b79c5199",
   "metadata": {
    "id": "1RFLV4gKOw1E"
   },
   "source": [
    "# Data Preparation"
   ]
  },
  {
   "cell_type": "markdown",
   "id": "0972c11a-1d97-4faf-931e-2617f1bf3c25",
   "metadata": {
    "id": "lSQR507POw1E",
    "tags": []
   },
   "source": [
    "## Handle Missing Value"
   ]
  },
  {
   "cell_type": "code",
   "execution_count": 4,
   "id": "c501cc56-6073-48a3-9577-5188ac3baa8f",
   "metadata": {
    "colab": {
     "base_uri": "https://localhost:8080/"
    },
    "id": "N0boMrBD1EjF",
    "outputId": "fe4c1ee6-c714-4358-eaa7-68ffa956e294",
    "tags": []
   },
   "outputs": [],
   "source": [
    "# function to check missing values\n",
    "\n",
    "import pandas as pd\n",
    "\n",
    "def info_missing_value(data):\n",
    "    \"\"\"\n",
    "    Calculate missing data statistics and return the missing data DataFrame.\n",
    "\n",
    "    Parameters:\n",
    "        data (pandas.DataFrame): The input DataFrame to analyze.\n",
    "\n",
    "    Returns:\n",
    "        pandas.DataFrame: A DataFrame containing the missing data statistics.\n",
    "    \"\"\"\n",
    "\n",
    "    # Calculate the total count of missing values for each column\n",
    "    total = data.isna().sum().sort_values(ascending=False)\n",
    "    percent = (data.isnull().sum() / len(data) * 100).sort_values(ascending=False)\n",
    "    length = len(data)\n",
    "\n",
    "    missing_data = pd.DataFrame(total, columns=['Total'])\n",
    "    missing_data['Percent']     = percent\n",
    "    missing_data['Data_length'] = length\n",
    "    missing_data = missing_data[missing_data['Total']>0]\n",
    "\n",
    "    return missing_data"
   ]
  },
  {
   "cell_type": "code",
   "execution_count": 5,
   "id": "c1ee3fc4-dac6-44fe-9def-67985dfc0871",
   "metadata": {
    "tags": []
   },
   "outputs": [
    {
     "data": {
      "text/html": [
       "<div>\n",
       "<style scoped>\n",
       "    .dataframe tbody tr th:only-of-type {\n",
       "        vertical-align: middle;\n",
       "    }\n",
       "\n",
       "    .dataframe tbody tr th {\n",
       "        vertical-align: top;\n",
       "    }\n",
       "\n",
       "    .dataframe thead th {\n",
       "        text-align: right;\n",
       "    }\n",
       "</style>\n",
       "<table border=\"1\" class=\"dataframe\">\n",
       "  <thead>\n",
       "    <tr style=\"text-align: right;\">\n",
       "      <th></th>\n",
       "      <th>Total</th>\n",
       "      <th>Percent</th>\n",
       "      <th>Data_length</th>\n",
       "    </tr>\n",
       "  </thead>\n",
       "  <tbody>\n",
       "    <tr>\n",
       "      <th>rating</th>\n",
       "      <td>95</td>\n",
       "      <td>1.1875</td>\n",
       "      <td>8000</td>\n",
       "    </tr>\n",
       "    <tr>\n",
       "      <th>love</th>\n",
       "      <td>34</td>\n",
       "      <td>0.4250</td>\n",
       "      <td>8000</td>\n",
       "    </tr>\n",
       "    <tr>\n",
       "      <th>value_price</th>\n",
       "      <td>17</td>\n",
       "      <td>0.2125</td>\n",
       "      <td>8000</td>\n",
       "    </tr>\n",
       "    <tr>\n",
       "      <th>category</th>\n",
       "      <td>13</td>\n",
       "      <td>0.1625</td>\n",
       "      <td>8000</td>\n",
       "    </tr>\n",
       "    <tr>\n",
       "      <th>number_of_reviews</th>\n",
       "      <td>9</td>\n",
       "      <td>0.1125</td>\n",
       "      <td>8000</td>\n",
       "    </tr>\n",
       "    <tr>\n",
       "      <th>price</th>\n",
       "      <td>8</td>\n",
       "      <td>0.1000</td>\n",
       "      <td>8000</td>\n",
       "    </tr>\n",
       "  </tbody>\n",
       "</table>\n",
       "</div>"
      ],
      "text/plain": [
       "                   Total  Percent  Data_length\n",
       "rating                95   1.1875         8000\n",
       "love                  34   0.4250         8000\n",
       "value_price           17   0.2125         8000\n",
       "category              13   0.1625         8000\n",
       "number_of_reviews      9   0.1125         8000\n",
       "price                  8   0.1000         8000"
      ]
     },
     "execution_count": 5,
     "metadata": {},
     "output_type": "execute_result"
    }
   ],
   "source": [
    "info_missing_value(datapre)"
   ]
  },
  {
   "cell_type": "markdown",
   "id": "ba6887ff-33ff-4c48-8511-4edcb2cf0590",
   "metadata": {
    "id": "dMKjPjsB1HAl"
   },
   "source": [
    "It can be observed that, apart from the `id`, `brand`, and `exclusive` columns, there are rows with missing values. The number of missing values is not significant, accounting for a maximum of approximately 1-2% of the data. To handle this, we will perform imputation using the median for numerical columns and the mode for categorical columns. Imputing with the median is more relevant due to the skewed distribution of the numerical data."
   ]
  },
  {
   "cell_type": "code",
   "execution_count": 6,
   "id": "b9d95d01-7994-4673-bd9d-a7cf1fe86a2d",
   "metadata": {
    "tags": []
   },
   "outputs": [],
   "source": [
    "# missing value handling\n",
    "numerical_null   = ['rating','love','value_price','number_of_reviews','price']\n",
    "\n",
    "datapre[numerical_null]   = datapre[numerical_null].fillna(datapre[numerical_null].median())\n",
    "datapre['category']       = datapre['category'].fillna(datapre['category'].mode()[0])"
   ]
  },
  {
   "cell_type": "code",
   "execution_count": 7,
   "id": "f38922f3-4c95-43fb-a3d3-3439d7ede1c4",
   "metadata": {
    "tags": []
   },
   "outputs": [
    {
     "data": {
      "text/html": [
       "<div>\n",
       "<style scoped>\n",
       "    .dataframe tbody tr th:only-of-type {\n",
       "        vertical-align: middle;\n",
       "    }\n",
       "\n",
       "    .dataframe tbody tr th {\n",
       "        vertical-align: top;\n",
       "    }\n",
       "\n",
       "    .dataframe thead th {\n",
       "        text-align: right;\n",
       "    }\n",
       "</style>\n",
       "<table border=\"1\" class=\"dataframe\">\n",
       "  <thead>\n",
       "    <tr style=\"text-align: right;\">\n",
       "      <th></th>\n",
       "      <th>Total</th>\n",
       "      <th>Percent</th>\n",
       "      <th>Data_length</th>\n",
       "    </tr>\n",
       "  </thead>\n",
       "  <tbody>\n",
       "  </tbody>\n",
       "</table>\n",
       "</div>"
      ],
      "text/plain": [
       "Empty DataFrame\n",
       "Columns: [Total, Percent, Data_length]\n",
       "Index: []"
      ]
     },
     "execution_count": 7,
     "metadata": {},
     "output_type": "execute_result"
    }
   ],
   "source": [
    "info_missing_value(datapre)"
   ]
  },
  {
   "cell_type": "markdown",
   "id": "4d7b0e4d-e43a-4753-a99b-0c64b3c5542e",
   "metadata": {
    "id": "QSjr8wLMOw1F"
   },
   "source": [
    "## Duplicate Values"
   ]
  },
  {
   "cell_type": "code",
   "execution_count": 8,
   "id": "f8947342-4746-45e8-b43d-da4cec69d3a3",
   "metadata": {
    "colab": {
     "base_uri": "https://localhost:8080/"
    },
    "id": "LLbANpO-1hxf",
    "outputId": "8ac7831d-90a2-4e97-bacf-a916f7639767",
    "tags": []
   },
   "outputs": [
    {
     "data": {
      "text/plain": [
       "0"
      ]
     },
     "execution_count": 8,
     "metadata": {},
     "output_type": "execute_result"
    }
   ],
   "source": [
    "# check to see if there are duplicated values\n",
    "datapre.duplicated().sum()"
   ]
  },
  {
   "cell_type": "markdown",
   "id": "2aef79ff-1f65-4ecd-8476-ed29c43b5b71",
   "metadata": {
    "id": "mKLTu7c02Fnh"
   },
   "source": [
    "Since there are no duplicate data, we can proceed to the next stage."
   ]
  },
  {
   "cell_type": "markdown",
   "id": "d2a7f086-3143-446f-9c46-62b0244a09cd",
   "metadata": {},
   "source": [
    "## Train Test Split\n",
    "\n",
    "Splitting the data into training and testing sets before handling outliers is a best practice to prevent data leakage. This ensures that the model is not exposed to information from the testing set during preprocessing. Outlier handling techniques can be applied to the training set, and the same transformations can be applied to the testing set for consistency"
   ]
  },
  {
   "cell_type": "code",
   "execution_count": 9,
   "id": "f6d716c6-6aa3-4241-abe7-9c9e4a7b4af1",
   "metadata": {
    "tags": []
   },
   "outputs": [
    {
     "name": "stdout",
     "output_type": "stream",
     "text": [
      "(6400, 6)\n",
      "(1600, 6)\n"
     ]
    }
   ],
   "source": [
    "from sklearn.model_selection import train_test_split\n",
    "\n",
    "# column id and value_price will be ommited, based on insight from EDA there are multicolinearity between price and value_price \n",
    "x = datapre.drop(columns=['id','exclusive','value_price']).copy()\n",
    "y = datapre['exclusive'].copy()\n",
    "\n",
    "x_train, x_test, y_train, y_test = train_test_split(x, y, test_size=0.2, random_state=42)\n",
    "print(x_train.shape)\n",
    "print(x_test.shape)"
   ]
  },
  {
   "cell_type": "markdown",
   "id": "c2a99a3d-d655-48d9-a0be-478b62d0f3a1",
   "metadata": {
    "id": "rMo1QkcoOw1F",
    "tags": []
   },
   "source": [
    "## Outliers\n",
    "\n",
    "From the graphs generated during the exploratory data analysis (EDA), we can see that almost all numeric columns have outliers. Before removing the outliers, considering that the distribution of these columns is right skewed, we can try normalizing them using the log transformation, except for the `rating` column."
   ]
  },
  {
   "cell_type": "code",
   "execution_count": 10,
   "id": "f6b76116-dfeb-479e-aa65-fd5ffb612c37",
   "metadata": {
    "tags": []
   },
   "outputs": [
    {
     "data": {
      "text/plain": [
       "Index(['brand', 'category', 'rating', 'number_of_reviews', 'love', 'price'], dtype='object')"
      ]
     },
     "execution_count": 10,
     "metadata": {},
     "output_type": "execute_result"
    }
   ],
   "source": [
    "x_train.columns"
   ]
  },
  {
   "cell_type": "code",
   "execution_count": 11,
   "id": "a372662e-d412-4523-aab6-6ad4a1ffec9b",
   "metadata": {
    "tags": []
   },
   "outputs": [],
   "source": [
    "# separate numerical and categorical features\n",
    "cats = ['brand', 'category']\n",
    "nums = ['rating', 'number_of_reviews', 'love', 'price']"
   ]
  },
  {
   "cell_type": "code",
   "execution_count": 12,
   "id": "ba181638-b10b-47f3-b2b2-9bfadd091a65",
   "metadata": {
    "id": "ZaT7v2E22aea",
    "tags": []
   },
   "outputs": [],
   "source": [
    "import numpy as np\n",
    "\n",
    "# Perform log transformation on numerical features in the training set\n",
    "# exclude rating column\n",
    "for num in nums:\n",
    "    if num not in ['rating']:\n",
    "        x_train[num] = np.log(x_train[num] + (x_train[x_train[num] > 0][num].min() / 2))\n",
    "        # We need to ensure that the data is not zero before applying the log transformation.\n",
    "\n",
    "# Perform log transformation on numerical features in the test set using parameters from the training set\n",
    "for num in nums:\n",
    "    if num not in ['rating']:\n",
    "        x_test[num] = np.log(x_test[num] + (x_train[x_train[num] > 0][num].min() / 2))"
   ]
  },
  {
   "cell_type": "markdown",
   "id": "c7712970-c1cb-4a5a-a18b-f2b647ec896e",
   "metadata": {
    "id": "ndGjRNhi2icw"
   },
   "source": [
    "Check for the result"
   ]
  },
  {
   "cell_type": "code",
   "execution_count": 13,
   "id": "5d100f3e-5817-4b34-9a05-e99e766f4e8a",
   "metadata": {
    "colab": {
     "base_uri": "https://localhost:8080/",
     "height": 533
    },
    "id": "nLEpkRyl2oHF",
    "outputId": "5c9d4ac3-84bc-4a6e-9397-d2fe51bed52b",
    "tags": []
   },
   "outputs": [
    {
     "data": {
      "image/png": "[encoded data removed]",
      "text/plain": [
       "<Figure size 1200x800 with 4 Axes>"
      ]
     },
     "metadata": {},
     "output_type": "display_data"
    }
   ],
   "source": [
    "import math\n",
    "\n",
    "plt.figure(figsize=(12, 8))\n",
    "for i in range (0, len(nums)):\n",
    "    plt.subplot(math.ceil(len(nums)/3), 3, i+1)\n",
    "    sns.violinplot(data=x_train, y=nums[i], x=y_train, linewidth=2, orient='v')"
   ]
  },
  {
   "cell_type": "code",
   "execution_count": 14,
   "id": "5a5b7a81-dea0-4f1a-ade3-956ce66d6abc",
   "metadata": {
    "tags": []
   },
   "outputs": [
    {
     "data": {
      "image/png": "[encoded data removed]",
      "text/plain": [
       "<Figure size 2070x827 with 4 Axes>"
      ]
     },
     "metadata": {},
     "output_type": "display_data"
    }
   ],
   "source": [
    "for i in range (0, len(nums)):\n",
    "    plt.subplot(math.ceil(len(nums)/3), 3, i+1)\n",
    "    sns.boxplot(data=x_train, y=nums[i], linewidth=2, orient='v')"
   ]
  },
  {
   "cell_type": "markdown",
   "id": "17709561-827e-43dd-ac81-ac91387ffbe2",
   "metadata": {
    "id": "0Qjy0gpC317D"
   },
   "source": [
    "Note that now almost all the numeric columns appear to have distributions that are quite normal. For normal distributions, we can use the z-score to remove outliers as shown below:"
   ]
  },
  {
   "cell_type": "code",
   "execution_count": 15,
   "id": "34c2e438-ac6c-4214-8ea8-3916b5fe7080",
   "metadata": {
    "tags": []
   },
   "outputs": [],
   "source": [
    "from scipy import stats\n",
    "\n",
    "# creates function to remove outliers in x_train, and using the x_train parameter to remove corresponding data in y_train\n",
    "def remove_outliers(x, y, nums, exclude_feature=None):\n",
    "    \"\"\"\n",
    "    Removes outliers from the input dataframe and target variable.\n",
    "\n",
    "    Parameters:\n",
    "        x (DataFrame): The input dataframe containing the features.\n",
    "        y (Series): The target variable.\n",
    "        nums (list): List of feature names to check for outliers.\n",
    "        exclude_feature (str or None, optional): The feature name to exclude from outlier removal.\n",
    "            Defaults to None.\n",
    "\n",
    "    Returns:\n",
    "        DataFrame: The input dataframe with outliers removed.\n",
    "        Series: The target variable with corresponding outliers removed.\n",
    "    \"\"\"\n",
    "    if exclude_feature:\n",
    "        nums = [num for num in nums if num != exclude_feature]\n",
    "    \n",
    "    z_scores = stats.zscore(x[nums])\n",
    "    outlier_mask = np.abs(z_scores) <= 3\n",
    "    filtered_x = x[outlier_mask.all(axis=1)]\n",
    "    filtered_y = y[outlier_mask.all(axis=1)]\n",
    "    return filtered_x, filtered_y"
   ]
  },
  {
   "cell_type": "code",
   "execution_count": 16,
   "id": "461d0b78-ae7f-4480-9c66-bd2769bb69a0",
   "metadata": {
    "colab": {
     "base_uri": "https://localhost:8080/"
    },
    "id": "PmGozwrX5p0K",
    "outputId": "4584f9e5-5490-4749-ff65-c692e3314173",
    "tags": []
   },
   "outputs": [
    {
     "name": "stdout",
     "output_type": "stream",
     "text": [
      "Before removing outlier:  6400\n",
      "After removing outlier:  6257\n"
     ]
    }
   ],
   "source": [
    "print(\"Before removing outlier: \", len(x_train))\n",
    "\n",
    "# remove outliers\n",
    "x_train, y_train = remove_outliers(x_train, y_train, nums, exclude_feature='rating')\n",
    "\n",
    "print(\"After removing outlier: \", len(x_train))"
   ]
  },
  {
   "cell_type": "markdown",
   "id": "bb511392-2296-4901-b254-9fc1ee2ae980",
   "metadata": {
    "id": "RrjlrM4p6whF"
   },
   "source": [
    "As seen above, we removed approximately ~140 rows that contain outliers based on the z-score method."
   ]
  },
  {
   "cell_type": "code",
   "execution_count": 17,
   "id": "7b7316b4-f7e9-4176-a7d9-ffec0efd24dd",
   "metadata": {
    "tags": []
   },
   "outputs": [
    {
     "data": {
      "image/png": "[encoded data removed]",
      "text/plain": [
       "<Figure size 2070x827 with 4 Axes>"
      ]
     },
     "metadata": {},
     "output_type": "display_data"
    }
   ],
   "source": [
    "for i in range (0, len(nums)):\n",
    "    plt.subplot(math.ceil(len(nums)/3), 3, i+1)\n",
    "    sns.boxplot(data=x_train, y=nums[i], linewidth=2, orient='v')"
   ]
  },
  {
   "cell_type": "markdown",
   "id": "e680fec9-c249-46b7-9254-46cbe20507dd",
   "metadata": {
    "id": "0ZnZ0gZiOw1G"
   },
   "source": [
    "## Normalization/Standardization\n",
    "\n",
    "As explained earlier, all our numeric columns now have distributions that are reasonably normal. Therefore, we will proceed with standardizing all our columns as shown below:\n",
    "\n",
    "Normalization/Standardization will be done to train and test df to ensure that the test data is standardized consistently with the training data."
   ]
  },
  {
   "cell_type": "code",
   "execution_count": 18,
   "id": "b389245b-c47d-4526-90b3-07116022244e",
   "metadata": {
    "id": "G_9kciiC63BJ",
    "tags": []
   },
   "outputs": [],
   "source": [
    "from sklearn.preprocessing import StandardScaler\n",
    "\n",
    "# Create a StandardScaler object\n",
    "scaler = StandardScaler()\n",
    "\n",
    "# the column rating will not be standardize as it is an ordinal features (they are not continous numerical feature)\n",
    "# instead rating column would be more suitable to be one hot encoded\n",
    "for num in nums:\n",
    "    if num not in ['rating']:\n",
    "        # strandardize train data\n",
    "        x_train[num] = scaler.fit_transform(x_train[[num]])\n",
    "        \n",
    "        # Standardize test data using the parameters from the train data\n",
    "        x_test[num] = scaler.transform(x_test[[num]])"
   ]
  },
  {
   "cell_type": "code",
   "execution_count": 19,
   "id": "5b555b92-1d34-4423-a127-0d040647a124",
   "metadata": {
    "colab": {
     "base_uri": "https://localhost:8080/",
     "height": 297
    },
    "id": "XM--l20m7cQ7",
    "outputId": "6a00489a-bd85-4966-ae20-7930160e227d",
    "tags": []
   },
   "outputs": [
    {
     "data": {
      "text/html": [
       "<div>\n",
       "<style scoped>\n",
       "    .dataframe tbody tr th:only-of-type {\n",
       "        vertical-align: middle;\n",
       "    }\n",
       "\n",
       "    .dataframe tbody tr th {\n",
       "        vertical-align: top;\n",
       "    }\n",
       "\n",
       "    .dataframe thead th {\n",
       "        text-align: right;\n",
       "    }\n",
       "</style>\n",
       "<table border=\"1\" class=\"dataframe\">\n",
       "  <thead>\n",
       "    <tr style=\"text-align: right;\">\n",
       "      <th></th>\n",
       "      <th>rating</th>\n",
       "      <th>number_of_reviews</th>\n",
       "      <th>love</th>\n",
       "      <th>price</th>\n",
       "    </tr>\n",
       "  </thead>\n",
       "  <tbody>\n",
       "    <tr>\n",
       "      <th>count</th>\n",
       "      <td>6257.000000</td>\n",
       "      <td>6.257000e+03</td>\n",
       "      <td>6.257000e+03</td>\n",
       "      <td>6.257000e+03</td>\n",
       "    </tr>\n",
       "    <tr>\n",
       "      <th>mean</th>\n",
       "      <td>4.099249</td>\n",
       "      <td>-1.885090e-16</td>\n",
       "      <td>1.663649e-16</td>\n",
       "      <td>6.830613e-16</td>\n",
       "    </tr>\n",
       "    <tr>\n",
       "      <th>std</th>\n",
       "      <td>0.717916</td>\n",
       "      <td>1.000080e+00</td>\n",
       "      <td>1.000080e+00</td>\n",
       "      <td>1.000080e+00</td>\n",
       "    </tr>\n",
       "    <tr>\n",
       "      <th>min</th>\n",
       "      <td>0.000000</td>\n",
       "      <td>-2.533746e+00</td>\n",
       "      <td>-3.376399e+00</td>\n",
       "      <td>-3.069387e+00</td>\n",
       "    </tr>\n",
       "    <tr>\n",
       "      <th>25%</th>\n",
       "      <td>4.000000</td>\n",
       "      <td>-7.135014e-01</td>\n",
       "      <td>-6.972831e-01</td>\n",
       "      <td>-5.726155e-01</td>\n",
       "    </tr>\n",
       "    <tr>\n",
       "      <th>50%</th>\n",
       "      <td>4.000000</td>\n",
       "      <td>-9.472851e-03</td>\n",
       "      <td>-1.820901e-02</td>\n",
       "      <td>-1.093906e-01</td>\n",
       "    </tr>\n",
       "    <tr>\n",
       "      <th>75%</th>\n",
       "      <td>4.500000</td>\n",
       "      <td>7.264881e-01</td>\n",
       "      <td>6.667543e-01</td>\n",
       "      <td>6.177478e-01</td>\n",
       "    </tr>\n",
       "    <tr>\n",
       "      <th>max</th>\n",
       "      <td>5.000000</td>\n",
       "      <td>2.997054e+00</td>\n",
       "      <td>3.215061e+00</td>\n",
       "      <td>3.027024e+00</td>\n",
       "    </tr>\n",
       "  </tbody>\n",
       "</table>\n",
       "</div>"
      ],
      "text/plain": [
       "            rating  number_of_reviews          love         price\n",
       "count  6257.000000       6.257000e+03  6.257000e+03  6.257000e+03\n",
       "mean      4.099249      -1.885090e-16  1.663649e-16  6.830613e-16\n",
       "std       0.717916       1.000080e+00  1.000080e+00  1.000080e+00\n",
       "min       0.000000      -2.533746e+00 -3.376399e+00 -3.069387e+00\n",
       "25%       4.000000      -7.135014e-01 -6.972831e-01 -5.726155e-01\n",
       "50%       4.000000      -9.472851e-03 -1.820901e-02 -1.093906e-01\n",
       "75%       4.500000       7.264881e-01  6.667543e-01  6.177478e-01\n",
       "max       5.000000       2.997054e+00  3.215061e+00  3.027024e+00"
      ]
     },
     "execution_count": 19,
     "metadata": {},
     "output_type": "execute_result"
    }
   ],
   "source": [
    "x_train[nums].describe()"
   ]
  },
  {
   "cell_type": "code",
   "execution_count": 20,
   "id": "401f6462-5e8d-4dcf-98ca-3d66c4603162",
   "metadata": {
    "tags": []
   },
   "outputs": [
    {
     "data": {
      "text/html": [
       "<div>\n",
       "<style scoped>\n",
       "    .dataframe tbody tr th:only-of-type {\n",
       "        vertical-align: middle;\n",
       "    }\n",
       "\n",
       "    .dataframe tbody tr th {\n",
       "        vertical-align: top;\n",
       "    }\n",
       "\n",
       "    .dataframe thead th {\n",
       "        text-align: right;\n",
       "    }\n",
       "</style>\n",
       "<table border=\"1\" class=\"dataframe\">\n",
       "  <thead>\n",
       "    <tr style=\"text-align: right;\">\n",
       "      <th></th>\n",
       "      <th>rating</th>\n",
       "      <th>number_of_reviews</th>\n",
       "      <th>love</th>\n",
       "      <th>price</th>\n",
       "    </tr>\n",
       "  </thead>\n",
       "  <tbody>\n",
       "    <tr>\n",
       "      <th>count</th>\n",
       "      <td>1600.000000</td>\n",
       "      <td>1600.000000</td>\n",
       "      <td>1600.000000</td>\n",
       "      <td>1600.000000</td>\n",
       "    </tr>\n",
       "    <tr>\n",
       "      <th>mean</th>\n",
       "      <td>4.046875</td>\n",
       "      <td>-0.045278</td>\n",
       "      <td>-0.134669</td>\n",
       "      <td>-0.048394</td>\n",
       "    </tr>\n",
       "    <tr>\n",
       "      <th>std</th>\n",
       "      <td>0.833359</td>\n",
       "      <td>1.098297</td>\n",
       "      <td>1.394491</td>\n",
       "      <td>1.020843</td>\n",
       "    </tr>\n",
       "    <tr>\n",
       "      <th>min</th>\n",
       "      <td>0.000000</td>\n",
       "      <td>-3.012249</td>\n",
       "      <td>-6.624508</td>\n",
       "      <td>-3.878275</td>\n",
       "    </tr>\n",
       "    <tr>\n",
       "      <th>25%</th>\n",
       "      <td>4.000000</td>\n",
       "      <td>-0.759832</td>\n",
       "      <td>-0.731014</td>\n",
       "      <td>-0.654340</td>\n",
       "    </tr>\n",
       "    <tr>\n",
       "      <th>50%</th>\n",
       "      <td>4.000000</td>\n",
       "      <td>-0.021360</td>\n",
       "      <td>-0.042710</td>\n",
       "      <td>-0.167939</td>\n",
       "    </tr>\n",
       "    <tr>\n",
       "      <th>75%</th>\n",
       "      <td>4.500000</td>\n",
       "      <td>0.741427</td>\n",
       "      <td>0.644515</td>\n",
       "      <td>0.582908</td>\n",
       "    </tr>\n",
       "    <tr>\n",
       "      <th>max</th>\n",
       "      <td>5.000000</td>\n",
       "      <td>2.812422</td>\n",
       "      <td>3.320575</td>\n",
       "      <td>3.487613</td>\n",
       "    </tr>\n",
       "  </tbody>\n",
       "</table>\n",
       "</div>"
      ],
      "text/plain": [
       "            rating  number_of_reviews         love        price\n",
       "count  1600.000000        1600.000000  1600.000000  1600.000000\n",
       "mean      4.046875          -0.045278    -0.134669    -0.048394\n",
       "std       0.833359           1.098297     1.394491     1.020843\n",
       "min       0.000000          -3.012249    -6.624508    -3.878275\n",
       "25%       4.000000          -0.759832    -0.731014    -0.654340\n",
       "50%       4.000000          -0.021360    -0.042710    -0.167939\n",
       "75%       4.500000           0.741427     0.644515     0.582908\n",
       "max       5.000000           2.812422     3.320575     3.487613"
      ]
     },
     "execution_count": 20,
     "metadata": {},
     "output_type": "execute_result"
    }
   ],
   "source": [
    "x_test[nums].describe()"
   ]
  },
  {
   "cell_type": "markdown",
   "id": "5256d27b-5a87-4ed3-bf83-7ca5c0e910b9",
   "metadata": {
    "id": "f7hmAGED7fTv"
   },
   "source": [
    "it can be seen now the numerical columns have standard deviation = 1 and mean = 0"
   ]
  },
  {
   "cell_type": "markdown",
   "id": "a53f672b-5c9b-4885-8c8b-210b6bc36081",
   "metadata": {
    "id": "vOA72wb2Ow1G"
   },
   "source": [
    "## Feature encoding\n",
    "\n",
    "Based on the EDA, the categorical columns have hundreds of possible values. Despite the dataset's small size (~7500 rows), one-hot encoding was chosen. However, if modeling proves slow, options like removing categories or using label encoding will be considered."
   ]
  },
  {
   "cell_type": "code",
   "execution_count": 21,
   "id": "d05fa0db-b48e-4d8a-8776-f7f156afc9b6",
   "metadata": {
    "tags": []
   },
   "outputs": [],
   "source": [
    "from sklearn.preprocessing import OneHotEncoder\n",
    "\n",
    "# List of categorical features\n",
    "cats = ['brand', 'category']\n",
    "\n",
    "encoder = OneHotEncoder(handle_unknown='ignore', sparse=False)\n",
    "\n",
    "# Iterate over categorical features\n",
    "for cat in cats:\n",
    "    # Fit the encoder on the training data\n",
    "    encoder.fit(x_train[cat].values.reshape(-1, 1))\n",
    "\n",
    "    # Transform on the training set\n",
    "    x_train_encoded = encoder.transform(x_train[cat].values.reshape(-1, 1))\n",
    "\n",
    "    # Transform on the test set\n",
    "    x_test_encoded = encoder.transform(x_test[cat].values.reshape(-1, 1))\n",
    "\n",
    "    # Get the feature names for the encoded columns\n",
    "    feature_names = encoder.get_feature_names_out([cat])\n",
    "\n",
    "    # Create new DataFrames with encoded columns\n",
    "    x_train_encoded_df = pd.DataFrame(x_train_encoded, columns=feature_names, index=x_train.index)\n",
    "    x_test_encoded_df = pd.DataFrame(x_test_encoded, columns=feature_names, index=x_test.index)\n",
    "\n",
    "    # Concatenate the encoded columns with the original dataframes\n",
    "    x_train = pd.concat([x_train.drop(columns=[cat]), x_train_encoded_df], axis=1)\n",
    "    x_test = pd.concat([x_test.drop(columns=[cat]), x_test_encoded_df], axis=1)"
   ]
  },
  {
   "cell_type": "code",
   "execution_count": 22,
   "id": "6c04955a-0dd2-4424-81d9-d0f34cc31e87",
   "metadata": {
    "tags": []
   },
   "outputs": [
    {
     "name": "stdout",
     "output_type": "stream",
     "text": [
      "<class 'pandas.core.frame.DataFrame'>\n",
      "Index: 6257 entries, 1467 to 7270\n",
      "Columns: 445 entries, rating to category_no category\n",
      "dtypes: float64(445)\n",
      "memory usage: 21.3 MB\n"
     ]
    }
   ],
   "source": [
    "x_train.info()"
   ]
  },
  {
   "cell_type": "code",
   "execution_count": 23,
   "id": "deab06fc-fc64-4da5-96a5-5f74ec6fc808",
   "metadata": {
    "tags": []
   },
   "outputs": [
    {
     "name": "stdout",
     "output_type": "stream",
     "text": [
      "<class 'pandas.core.frame.DataFrame'>\n",
      "Index: 1600 entries, 2215 to 6832\n",
      "Columns: 445 entries, rating to category_no category\n",
      "dtypes: float64(445)\n",
      "memory usage: 5.4 MB\n"
     ]
    }
   ],
   "source": [
    "x_test.info()"
   ]
  },
  {
   "cell_type": "markdown",
   "id": "e74a6136-d893-4f6f-8fe3-91fe83d18906",
   "metadata": {
    "id": "wdHoGY877k5H"
   },
   "source": [
    "it can be seen, the dataset now has hundreds of columns resulting from one-hot encoding of the categorical columns."
   ]
  },
  {
   "cell_type": "markdown",
   "id": "a0057351-d912-49ef-a6a9-e1b43c598fba",
   "metadata": {},
   "source": [
    "## Feature Selection\n",
    "\n",
    "The dataset has undergone one-hot encoding on its categorical columns, resulting in a substantial increase in the number of columns. Considering the large number of columns, feature selection techniques will be applied to identify the most relevant features for modeling and analysis.\n",
    "\n",
    "`SelectKbest` `mutual_info_classif` Methods will be used for feature selection. as the dataset are comprised of numerical and categorical feature"
   ]
  },
  {
   "cell_type": "code",
   "execution_count": 26,
   "id": "4321e599-e6b2-42a7-9428-dfeddce1bf2d",
   "metadata": {
    "tags": []
   },
   "outputs": [],
   "source": [
    "from sklearn.feature_selection import SelectKBest, mutual_info_classif\n",
    "\n",
    "def select_best_features(x, y, k=15):\n",
    "    \"\"\"\n",
    "    Selects the top 'k' features from a dataframe based on their relevance to the target variable.\n",
    "\n",
    "    Parameters:\n",
    "        df (DataFrame)     : The input dataframe containing the features and target variable.\n",
    "        target_column (str): The name of the target variable column.\n",
    "        k (int, optional)  : The number of top features to select. Defaults to 15.\n",
    "\n",
    "    Returns:\n",
    "        list: A list of the best feature(s) based on their relevance to the target variable.\n",
    "    \"\"\"\n",
    "    # Perform feature selection using SelectKBest and mutual_info_classif\n",
    "    selector = SelectKBest(score_func=mutual_info_classif, k=k)\n",
    "    selector.fit(x, y)\n",
    "    \n",
    "    # Get the indices of the k best features\n",
    "    best_feature_indices = selector.get_support(indices=True)\n",
    "    \n",
    "    # Get the names of the best features\n",
    "    best_features = list(x.columns[best_feature_indices])\n",
    "    \n",
    "    return best_features"
   ]
  },
  {
   "cell_type": "code",
   "execution_count": 27,
   "id": "572ec5ba-531e-4a7c-b6f2-b71937d2c0a3",
   "metadata": {
    "tags": []
   },
   "outputs": [
    {
     "data": {
      "text/plain": [
       "['price',\n",
       " 'brand_CHANEL',\n",
       " 'brand_COOLA',\n",
       " 'brand_Ciaté London',\n",
       " 'brand_Donna Karan',\n",
       " 'brand_FENTY BEAUTY by Rihanna',\n",
       " 'brand_Laura Mercier',\n",
       " 'brand_MAKE UP FOR EVER',\n",
       " 'brand_NAILS INC.',\n",
       " 'brand_SEPHORA COLLECTION',\n",
       " 'brand_Urban Decay',\n",
       " 'brand_beautyblender',\n",
       " 'brand_lilah b.',\n",
       " 'category_Cologne',\n",
       " 'category_Concealer']"
      ]
     },
     "execution_count": 27,
     "metadata": {},
     "output_type": "execute_result"
    }
   ],
   "source": [
    "selected_features = select_best_features(x_train,y_train)\n",
    "selected_features"
   ]
  },
  {
   "cell_type": "markdown",
   "id": "c343ca1d-b974-4acd-9ca4-1f653a74f7ce",
   "metadata": {},
   "source": [
    "In summary, the selected features indicate that price, brand information (such as Anastasia Beverly Hills, Atelier Cologne, etc.), value_price, and category information (such as Face Brushes, Hair, Spa Tools) are among the most influential factors for predicting the target variable in the given dataset."
   ]
  },
  {
   "cell_type": "markdown",
   "id": "d79e3688-bddb-4d92-a7e1-e7350b051679",
   "metadata": {
    "id": "xFnEo_RBOw1H",
    "tags": []
   },
   "source": [
    "## Class imbalance\n",
    "We can perform class imbalance checking using `value_counts`. It can be seen that the ratio between the positive and negative classes for the `exclusive` column is around `1:3`, indicating that there is class imbalance but not extreme."
   ]
  },
  {
   "cell_type": "code",
   "execution_count": 28,
   "id": "eef3b534-420c-416f-872f-4c72574d024c",
   "metadata": {
    "colab": {
     "base_uri": "https://localhost:8080/"
    },
    "id": "H7sV9EQW8vsW",
    "outputId": "21710152-301a-451c-f3b0-a6d3a306f270",
    "tags": []
   },
   "outputs": [
    {
     "data": {
      "text/plain": [
       "exclusive\n",
       "0    74.50855\n",
       "1    25.49145\n",
       "Name: count, dtype: float64"
      ]
     },
     "execution_count": 28,
     "metadata": {},
     "output_type": "execute_result"
    }
   ],
   "source": [
    "y_train.value_counts() / len(y_train) * 100"
   ]
  },
  {
   "cell_type": "markdown",
   "id": "dc4768df-1815-4f33-9ded-a1bdb67a1071",
   "metadata": {
    "tags": []
   },
   "source": [
    "# Modeling\n",
    "\n",
    "The modeling process will begin by evaluating the models without handling imbalances in the dataset to assess their performance. Subsequently, the dataset will be processed using SMOTE (Synthetic Minority Over-sampling Technique) to address the class imbalance. Finally, the performance of different models will be compared to determine the best-performing one."
   ]
  },
  {
   "cell_type": "code",
   "execution_count": 31,
   "id": "76d7967b-55c3-4b9c-bc61-0d7ff718bc9b",
   "metadata": {},
   "outputs": [
    {
     "name": "stdout",
     "output_type": "stream",
     "text": [
      "accuracy score:  0.914375\n",
      "precision score:  0.8927536231884058\n",
      "recall score:  0.7549019607843137\n"
     ]
    }
   ],
   "source": [
    "from sklearn.linear_model import LogisticRegression\n",
    "from sklearn.metrics import accuracy_score, precision_score, recall_score\n",
    "\n",
    "# initiate model\n",
    "logreg = LogisticRegression()\n",
    "\n",
    "# train model\n",
    "logreg.fit(x_train,y_train)\n",
    "\n",
    "# predict test set\n",
    "y_pred = logreg.predict(x_test)\n",
    "\n",
    "print('accuracy score: ', accuracy_score(y_test, y_pred))\n",
    "print('precision score: ', precision_score(y_test, y_pred))\n",
    "print('recall score: ', recall_score(y_test, y_pred))"
   ]
  },
  {
   "cell_type": "code",
   "execution_count": 32,
   "id": "69376bb3-786d-4a51-8c73-23e56792ed3b",
   "metadata": {
    "tags": []
   },
   "outputs": [
    {
     "name": "stdout",
     "output_type": "stream",
     "text": [
      "accuracy score:  0.85875\n",
      "precision score:  0.7791411042944786\n",
      "recall score:  0.6225490196078431\n"
     ]
    }
   ],
   "source": [
    "from sklearn.neighbors import KNeighborsClassifier\n",
    "\n",
    "# initiate model\n",
    "knn = KNeighborsClassifier()\n",
    "\n",
    "# fit train set to model\n",
    "knn.fit(x_train, y_train)\n",
    "\n",
    "# predict test set\n",
    "y_predknn = knn.predict(x_test)\n",
    "\n",
    "print('accuracy score: ', accuracy_score(y_test, y_predknn))\n",
    "print('precision score: ', precision_score(y_test, y_predknn))\n",
    "print('recall score: ', recall_score(y_test, y_predknn))"
   ]
  },
  {
   "cell_type": "code",
   "execution_count": 38,
   "id": "1e2b3511-0b90-4e19-a8ec-df39d25a7a76",
   "metadata": {
    "tags": []
   },
   "outputs": [
    {
     "name": "stdout",
     "output_type": "stream",
     "text": [
      "accuracy score:  0.885\n",
      "precision score:  0.7718446601941747\n",
      "recall score:  0.7794117647058824\n"
     ]
    }
   ],
   "source": [
    "from sklearn.tree import DecisionTreeClassifier\n",
    "\n",
    "# initiate model\n",
    "dt = DecisionTreeClassifier()\n",
    "\n",
    "# fit train set to model\n",
    "dt.fit(x_train, y_train)\n",
    "\n",
    "# predict test set\n",
    "y_preddt = dt.predict(x_test)\n",
    "\n",
    "print('accuracy score: ', accuracy_score(y_test, y_preddt))\n",
    "print('precision score: ', precision_score(y_test, y_preddt))\n",
    "print('recall score: ', recall_score(y_test, y_preddt))"
   ]
  },
  {
   "cell_type": "code",
   "execution_count": null,
   "id": "5ad7662c-7cd0-489c-8616-3284f6fc4fc6",
   "metadata": {},
   "outputs": [],
   "source": [
    "from sklearn.metrics import accuracy_score, precision_score, recall_score, f1_score, roc_auc_score\n",
    "from sklearn.model_selection import cross_validate\n",
    "from sklearn.ensemble import RandomForestClassifier\n",
    "\n",
    "def eval_classification(model):\n",
    "    y_pred = model.predict(x_test)\n",
    "    y_pred_train = model.predict(x_train)\n",
    "    y_pred_proba = model.predict_proba(x_test)\n",
    "    y_pred_proba_train = model.predict_proba(x_train)\n",
    "\n",
    "    print(\"Accuracy (Test Set): %.2f\" % accuracy_score(y_test, y_pred))\n",
    "    print(\"Precision (Test Set): %.2f\" % precision_score(y_test, y_pred))\n",
    "    print(\"Recall (Test Set): %.2f\" % recall_score(y_test, y_pred))\n",
    "    print(\"F1-Score (Test Set): %.2f\" % f1_score(y_test, y_pred))\n",
    "\n",
    "    print(\"roc_auc (test-proba): %.2f\" % roc_auc_score(y_test, y_pred_proba[:, 1]))\n",
    "    print(\"roc_auc (train-proba): %.2f\" % roc_auc_score(y_train, y_pred_proba_train[:, 1]))\n",
    "    \n",
    "    score = cross_validate(model, x, y, cv=5, scoring='recall_score', return_train_score=True)\n",
    "    print('recall (crossval train): '+ str(score['train_score'].mean()))\n",
    "    print('recall (crossval test): '+ str(score['test_score'].mean()))\n",
    "\n",
    "def show_feature_importance(model):\n",
    "    feat_importances = pd.Series(model.feature_importances_, index=x.columns)\n",
    "    ax = feat_importances.nlargest(25).plot(kind='barh', figsize=(10, 8))\n",
    "    ax.invert_yaxis()\n",
    "\n",
    "    plt.xlabel('score')\n",
    "    plt.ylabel('feature')\n",
    "    plt.title('feature importance score')\n",
    "\n",
    "def show_best_hyperparameter(model):\n",
    "    print(model.best_estimator_.get_params())"
   ]
  }
 ],
 "metadata": {
  "kernelspec": {
   "display_name": "Python 3 (ipykernel)",
   "language": "python",
   "name": "python3"
  },
  "language_info": {
   "codemirror_mode": {
    "name": "ipython",
    "version": 3
   },
   "file_extension": ".py",
   "mimetype": "text/x-python",
   "name": "python",
   "nbconvert_exporter": "python",
   "pygments_lexer": "ipython3",
   "version": "3.11.5"
  }
 },
 "nbformat": 4,
 "nbformat_minor": 5
}
